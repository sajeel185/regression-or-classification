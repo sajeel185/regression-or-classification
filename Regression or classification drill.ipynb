{
 "cells": [
  {
   "cell_type": "markdown",
   "metadata": {},
   "source": [
    "### 1. Regression, because the outcome variable is continuous.  The amount a person spends on a website will vary from person to person\n",
    "\n",
    "### 2. Classification, because the outcome variable is categorical, and will only take on a discrete value from within a specified set, which in this example would be the color choices available from the car company.\n",
    "\n",
    "### 3. Regression, because the output variable will be continuous.  A family can have a varying number of children\n",
    "\n",
    "### 4. Classification, because the outcome variable is categorical and can only take on two discrete values, either yes or no.\n",
    "\n",
    "### 5. Regression, the outcome variable is continuous.\n",
    "\n",
    "### 6. Classification, the outcome variable is categorical because the question is asking for probability.\n",
    "\n",
    "### 7. Classification, the outcome variable is categorical and will only take on the discrete values from the specified set of medicines meant to treat that patients sickness."
   ]
  }
 ],
 "metadata": {
  "kernelspec": {
   "display_name": "Python 3",
   "language": "python",
   "name": "python3"
  },
  "language_info": {
   "codemirror_mode": {
    "name": "ipython",
    "version": 3
   },
   "file_extension": ".py",
   "mimetype": "text/x-python",
   "name": "python",
   "nbconvert_exporter": "python",
   "pygments_lexer": "ipython3",
   "version": "3.7.0"
  }
 },
 "nbformat": 4,
 "nbformat_minor": 2
}
